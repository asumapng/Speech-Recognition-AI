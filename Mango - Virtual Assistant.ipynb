{
 "cells": [
  {
   "cell_type": "markdown",
   "id": "a88eeb7d",
   "metadata": {},
   "source": [
    "# Virtual Assistant using Speech Recognition"
   ]
  },
  {
   "cell_type": "markdown",
   "id": "ad5c2303",
   "metadata": {},
   "source": [
    "### Installing packages"
   ]
  },
  {
   "cell_type": "markdown",
   "id": "ac909427",
   "metadata": {},
   "source": [
    "! pip install SpeechRecognition \n",
    "! pip install pyttsx3\n",
    "! pip install pipwin\n",
    "! pip install Pyaudio\n",
    "! pip uninstall pipwin\n",
    "! pip install pywhatkit\n",
    "! pip install googlesearch-python\n",
    "! pip install google_trans_new\n",
    "! pip install pyjokes"
   ]
  },
  {
   "cell_type": "code",
   "execution_count": 44,
   "id": "12e508f5",
   "metadata": {},
   "outputs": [],
   "source": [
    "import speech_recognition as sr\n",
    "import pyttsx3 \n",
    "import pywhatkit as pk\n",
    "import datetime as dt\n",
    "import webbrowser\n",
    "from google_trans_new import google_translator\n",
    "import pandas as pd\n",
    "import pyjokes as pj\n",
    "import wikipedia"
   ]
  },
  {
   "cell_type": "code",
   "execution_count": 45,
   "id": "37151daa",
   "metadata": {
    "scrolled": true
   },
   "outputs": [],
   "source": [
    "# language_code = pd.read_csv(\"language_code.csv\") \n",
    "# language_code.language = language_code.language.str.lower()\n",
    "# print(language_code)  "
   ]
  },
  {
   "cell_type": "markdown",
   "id": "305a0e13",
   "metadata": {},
   "source": [
    "### The assistant's name is Mango. "
   ]
  },
  {
   "cell_type": "markdown",
   "id": "779be1f1",
   "metadata": {},
   "source": [
    "#### Making Functions for different parts of the process."
   ]
  },
  {
   "cell_type": "code",
   "execution_count": 46,
   "id": "66e97a12",
   "metadata": {},
   "outputs": [],
   "source": [
    "listener = sr.Recognizer() #To record the voice input\n",
    "engine = pyttsx3.init() #to initialize text to speech\n",
    "voices = engine.getProperty('voices') \n",
    "engine.setProperty('rate',170) #setting the speaking/reading speed of the voice"
   ]
  },
  {
   "cell_type": "code",
   "execution_count": 47,
   "id": "2f19c62c",
   "metadata": {},
   "outputs": [],
   "source": [
    "def mango_intro():\n",
    "    engine.say('Hello! Im Mango. What can I do for you today?')\n",
    "    engine.runAndWait()"
   ]
  },
  {
   "cell_type": "markdown",
   "id": "155bc18b",
   "metadata": {},
   "source": [
    "#### Function to convert text to voice of the assitant"
   ]
  },
  {
   "cell_type": "code",
   "execution_count": 48,
   "id": "eb973998",
   "metadata": {},
   "outputs": [],
   "source": [
    "def mango_talk(text):\n",
    "    engine.say(text)\n",
    "    engine.runAndWait()"
   ]
  },
  {
   "cell_type": "markdown",
   "id": "b2bedb16",
   "metadata": {},
   "source": [
    "#### Function to recognise the voice input and remove assistant's name - \"mango\""
   ]
  },
  {
   "cell_type": "code",
   "execution_count": 32,
   "id": "0f1edcee",
   "metadata": {},
   "outputs": [],
   "source": [
    "def take_command():\n",
    "    try: \n",
    "        with sr.Microphone() as source:\n",
    "            print('Listening....')\n",
    "            voice = listener.listen(source)\n",
    "            command = listener.recognize_google(voice)\n",
    "            command = command.lower()\n",
    "            if 'mango' in command:\n",
    "                command = command.replace('mango','')\n",
    "            print(command)\n",
    "            return command\n",
    "    except: \n",
    "        pass"
   ]
  },
  {
   "cell_type": "markdown",
   "id": "e7cfc2cf",
   "metadata": {},
   "source": [
    "#### The working of the assistant."
   ]
  },
  {
   "cell_type": "code",
   "execution_count": 49,
   "id": "64c26348",
   "metadata": {},
   "outputs": [
    {
     "name": "stdout",
     "output_type": "stream",
     "text": [
      "Listening....\n"
     ]
    },
    {
     "ename": "TypeError",
     "evalue": "argument of type 'NoneType' is not iterable",
     "output_type": "error",
     "traceback": [
      "\u001b[1;31m---------------------------------------------------------------------------\u001b[0m",
      "\u001b[1;31mTypeError\u001b[0m                                 Traceback (most recent call last)",
      "\u001b[1;32m~\\AppData\\Local\\Temp/ipykernel_11528/644746955.py\u001b[0m in \u001b[0;36m<module>\u001b[1;34m\u001b[0m\n\u001b[0;32m     44\u001b[0m \u001b[1;33m\u001b[0m\u001b[0m\n\u001b[0;32m     45\u001b[0m \u001b[1;32mwhile\u001b[0m \u001b[1;32mTrue\u001b[0m\u001b[1;33m:\u001b[0m\u001b[1;33m\u001b[0m\u001b[1;33m\u001b[0m\u001b[0m\n\u001b[1;32m---> 46\u001b[1;33m     \u001b[0mrun_mango\u001b[0m\u001b[1;33m(\u001b[0m\u001b[1;33m)\u001b[0m\u001b[1;33m\u001b[0m\u001b[1;33m\u001b[0m\u001b[0m\n\u001b[0m",
      "\u001b[1;32m~\\AppData\\Local\\Temp/ipykernel_11528/644746955.py\u001b[0m in \u001b[0;36mrun_mango\u001b[1;34m()\u001b[0m\n\u001b[0;32m      5\u001b[0m \u001b[1;33m\u001b[0m\u001b[0m\n\u001b[0;32m      6\u001b[0m     \u001b[1;31m#To play a song from youtube\u001b[0m\u001b[1;33m\u001b[0m\u001b[1;33m\u001b[0m\u001b[0m\n\u001b[1;32m----> 7\u001b[1;33m     \u001b[1;32mif\u001b[0m \u001b[1;34m'play'\u001b[0m \u001b[1;32min\u001b[0m \u001b[0mcommand\u001b[0m\u001b[1;33m:\u001b[0m\u001b[1;33m\u001b[0m\u001b[1;33m\u001b[0m\u001b[0m\n\u001b[0m\u001b[0;32m      8\u001b[0m         \u001b[0msong\u001b[0m \u001b[1;33m=\u001b[0m \u001b[0mcommand\u001b[0m\u001b[1;33m.\u001b[0m\u001b[0mreplace\u001b[0m\u001b[1;33m(\u001b[0m\u001b[1;34m'play'\u001b[0m\u001b[1;33m,\u001b[0m\u001b[1;34m''\u001b[0m\u001b[1;33m)\u001b[0m\u001b[1;33m\u001b[0m\u001b[1;33m\u001b[0m\u001b[0m\n\u001b[0;32m      9\u001b[0m         \u001b[0mprint\u001b[0m\u001b[1;33m(\u001b[0m\u001b[1;34m'\\nplaying....'\u001b[0m\u001b[1;33m)\u001b[0m\u001b[1;33m\u001b[0m\u001b[1;33m\u001b[0m\u001b[0m\n",
      "\u001b[1;31mTypeError\u001b[0m: argument of type 'NoneType' is not iterable"
     ]
    }
   ],
   "source": [
    "mango_intro() #Introduces itself\n",
    "\n",
    "def run_mango():\n",
    "    command = take_command()\n",
    "    \n",
    "    #To play a song from youtube\n",
    "    if 'play' in command: \n",
    "        song = command.replace('play','')\n",
    "        print('\\nplaying....')\n",
    "        mango_talk('playing' + song)\n",
    "        pk.playonyt(song)\n",
    "        \n",
    "    #To give out the current time    \n",
    "    elif 'time' in command:\n",
    "        time = dt.datetime.now().strftime('%I:%M %p')\n",
    "        print(\"\\n\" + time)\n",
    "        mango_talk(\"The time right now is \"+time)\n",
    "    \n",
    "    #To make a google search in the browser\n",
    "    elif 'google' in command:\n",
    "        command = command.replace('google','')\n",
    "        url = 'www.google.com/search?q='\n",
    "        search_url = url+command\n",
    "        print(\"\\n\\nOpening webbrowser to search \"+command)\n",
    "        mango_talk(\"Opening webbrowser to search\"+command)\n",
    "        webbrowser.open(search_url)\n",
    "    \n",
    "    #To tell a joke\n",
    "    elif 'joke' in command:\n",
    "        joke = pj.get_joke()\n",
    "        print(joke)\n",
    "        mango_talk(joke)\n",
    "    \n",
    "    #To get information about something from wikipedia\n",
    "    elif 'who the heck is' or 'what the heck is' in command:\n",
    "        person = command.replace('who the heck is','')\n",
    "        person = command.replace('what the heck is', '')\n",
    "        information = wikipedia.summary(person, 1)\n",
    "        print(information)\n",
    "        mango_talk(information)\n",
    "    \n",
    "    else:\n",
    "        mango_talk('Please give me another command. I am a little dumb and my abilities are limited.')\n",
    "\n",
    "while True:\n",
    "    run_mango()"
   ]
  }
 ],
 "metadata": {
  "kernelspec": {
   "display_name": "Python 3 (ipykernel)",
   "language": "python",
   "name": "python3"
  },
  "language_info": {
   "codemirror_mode": {
    "name": "ipython",
    "version": 3
   },
   "file_extension": ".py",
   "mimetype": "text/x-python",
   "name": "python",
   "nbconvert_exporter": "python",
   "pygments_lexer": "ipython3",
   "version": "3.9.7"
  }
 },
 "nbformat": 4,
 "nbformat_minor": 5
}
